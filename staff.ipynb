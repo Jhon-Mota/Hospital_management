{
 "cells": [
  {
   "cell_type": "code",
   "execution_count": 10,
   "id": "7e8c64a7",
   "metadata": {},
   "outputs": [],
   "source": [
    "import pandas as pd\n",
    "\n",
    "df = pd.read_csv('staff.csv')"
   ]
  },
  {
   "cell_type": "code",
   "execution_count": 11,
   "id": "b301cec1",
   "metadata": {},
   "outputs": [
    {
     "data": {
      "application/vnd.microsoft.datawrangler.viewer.v0+json": {
       "columns": [
        {
         "name": "index",
         "rawType": "int64",
         "type": "integer"
        },
        {
         "name": "service",
         "rawType": "object",
         "type": "string"
        }
       ],
       "ref": "4ab621f7-3c6d-4c41-889f-b98b5ceb166d",
       "rows": [
        [
         "0",
         "Emergency"
        ],
        [
         "1",
         "Emergency"
        ],
        [
         "2",
         "Emergency"
        ],
        [
         "3",
         "Emergency"
        ],
        [
         "4",
         "Emergency"
        ],
        [
         "5",
         "Emergency"
        ],
        [
         "6",
         "Emergency"
        ],
        [
         "7",
         "Emergency"
        ],
        [
         "8",
         "Emergency"
        ],
        [
         "9",
         "Emergency"
        ],
        [
         "10",
         "Emergency"
        ],
        [
         "11",
         "Emergency"
        ],
        [
         "12",
         "Emergency"
        ],
        [
         "13",
         "Emergency"
        ],
        [
         "14",
         "Emergency"
        ],
        [
         "15",
         "Emergency"
        ],
        [
         "16",
         "Emergency"
        ],
        [
         "17",
         "Emergency"
        ],
        [
         "18",
         "Emergency"
        ],
        [
         "19",
         "Emergency"
        ],
        [
         "20",
         "Emergency"
        ],
        [
         "21",
         "Emergency"
        ],
        [
         "22",
         "Emergency"
        ],
        [
         "23",
         "Emergency"
        ],
        [
         "24",
         "Emergency"
        ],
        [
         "25",
         "Emergency"
        ],
        [
         "26",
         "Emergency"
        ],
        [
         "27",
         "Emergency"
        ],
        [
         "28",
         "Emergency"
        ],
        [
         "29",
         "Surgery"
        ],
        [
         "30",
         "Surgery"
        ],
        [
         "31",
         "Surgery"
        ],
        [
         "32",
         "Surgery"
        ],
        [
         "33",
         "Surgery"
        ],
        [
         "34",
         "Surgery"
        ],
        [
         "35",
         "Surgery"
        ],
        [
         "36",
         "Surgery"
        ],
        [
         "37",
         "Surgery"
        ],
        [
         "38",
         "Surgery"
        ],
        [
         "39",
         "Surgery"
        ],
        [
         "40",
         "Surgery"
        ],
        [
         "41",
         "Surgery"
        ],
        [
         "42",
         "Surgery"
        ],
        [
         "43",
         "Surgery"
        ],
        [
         "44",
         "Surgery"
        ],
        [
         "45",
         "Surgery"
        ],
        [
         "46",
         "Surgery"
        ],
        [
         "47",
         "Surgery"
        ],
        [
         "48",
         "Surgery"
        ],
        [
         "49",
         "Surgery"
        ]
       ],
       "shape": {
        "columns": 1,
        "rows": 110
       }
      },
      "text/plain": [
       "0      Emergency\n",
       "1      Emergency\n",
       "2      Emergency\n",
       "3      Emergency\n",
       "4      Emergency\n",
       "         ...    \n",
       "105          Icu\n",
       "106          Icu\n",
       "107          Icu\n",
       "108          Icu\n",
       "109          Icu\n",
       "Name: service, Length: 110, dtype: object"
      ]
     },
     "execution_count": 11,
     "metadata": {},
     "output_type": "execute_result"
    }
   ],
   "source": [
    "df.dropna(axis='index')\n",
    "df['role'].str.capitalize()\n",
    "df['service'].str.capitalize()"
   ]
  },
  {
   "cell_type": "code",
   "execution_count": 12,
   "id": "00e7e9bc",
   "metadata": {},
   "outputs": [
    {
     "data": {
      "application/vnd.microsoft.datawrangler.viewer.v0+json": {
       "columns": [
        {
         "name": "role",
         "rawType": "object",
         "type": "string"
        },
        {
         "name": "count",
         "rawType": "int64",
         "type": "integer"
        }
       ],
       "ref": "3e1e171c-4e50-4741-9c5c-a174d6146342",
       "rows": [
        [
         "doctor",
         "18"
        ],
        [
         "nurse",
         "69"
        ],
        [
         "nursing_assistant",
         "23"
        ]
       ],
       "shape": {
        "columns": 1,
        "rows": 3
       }
      },
      "text/plain": [
       "role\n",
       "doctor               18\n",
       "nurse                69\n",
       "nursing_assistant    23\n",
       "Name: count, dtype: int64"
      ]
     },
     "execution_count": 12,
     "metadata": {},
     "output_type": "execute_result"
    }
   ],
   "source": [
    "# Quantidade de funcionários por cargo.\n",
    "employee_by_departament = df.groupby('role')['role'].value_counts()\n",
    "employee_by_departament\n"
   ]
  },
  {
   "cell_type": "code",
   "execution_count": 13,
   "id": "3eef3820",
   "metadata": {},
   "outputs": [
    {
     "data": {
      "application/vnd.microsoft.datawrangler.viewer.v0+json": {
       "columns": [
        {
         "name": "service",
         "rawType": "object",
         "type": "string"
        },
        {
         "name": "count",
         "rawType": "int64",
         "type": "integer"
        }
       ],
       "ref": "2d748b4f-8005-4a9d-a12a-4272681f3fea",
       "rows": [
        [
         "ICU",
         "32"
        ],
        [
         "emergency",
         "29"
        ],
        [
         "general_medicine",
         "27"
        ],
        [
         "surgery",
         "22"
        ]
       ],
       "shape": {
        "columns": 1,
        "rows": 4
       }
      },
      "text/plain": [
       "service\n",
       "ICU                 32\n",
       "emergency           29\n",
       "general_medicine    27\n",
       "surgery             22\n",
       "Name: count, dtype: int64"
      ]
     },
     "execution_count": 13,
     "metadata": {},
     "output_type": "execute_result"
    }
   ],
   "source": [
    "# Quantidade de funionários por serviço\n",
    "employee_by_service = df.groupby('service')['service'].value_counts()\n",
    "employee_by_service"
   ]
  },
  {
   "cell_type": "code",
   "execution_count": 14,
   "id": "5cbc908c",
   "metadata": {},
   "outputs": [
    {
     "data": {
      "image/png": "[encoded data removed]",
      "text/plain": [
       "<Figure size 640x480 with 1 Axes>"
      ]
     },
     "metadata": {},
     "output_type": "display_data"
    }
   ],
   "source": [
    "plot = employee_by_service.plot(kind='bar', title='Employee by service')"
   ]
  }
 ],
 "metadata": {
  "kernelspec": {
   "display_name": "venv",
   "language": "python",
   "name": "python3"
  },
  "language_info": {
   "codemirror_mode": {
    "name": "ipython",
    "version": 3
   },
   "file_extension": ".py",
   "mimetype": "text/x-python",
   "name": "python",
   "nbconvert_exporter": "python",
   "pygments_lexer": "ipython3",
   "version": "3.13.6"
  }
 },
 "nbformat": 4,
 "nbformat_minor": 5
}
