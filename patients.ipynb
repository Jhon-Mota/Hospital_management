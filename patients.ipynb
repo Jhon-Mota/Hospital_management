{
 "cells": [
  {
   "cell_type": "code",
   "execution_count": 15,
   "id": "7cea9a27",
   "metadata": {},
   "outputs": [],
   "source": [
    "import pandas as pd"
   ]
  },
  {
   "cell_type": "code",
   "execution_count": 16,
   "id": "f4ed7d27",
   "metadata": {},
   "outputs": [],
   "source": [
    "df = pd.read_csv('patients.csv')\n",
    "df['arrival_date'] = pd.to_datetime(df['arrival_date'])\n",
    "df['departure_date'] = pd.to_datetime(df['departure_date'])"
   ]
  },
  {
   "cell_type": "code",
   "execution_count": 17,
   "id": "7d009bab",
   "metadata": {},
   "outputs": [
    {
     "name": "stdout",
     "output_type": "stream",
     "text": [
      "Patients satisfaction mean: 79\n"
     ]
    }
   ],
   "source": [
    "df.dropna()\n",
    "# Calcula a média de satisfação do cliente\n",
    "geral_patients_satisfaction_mean = int(df['satisfaction'].mean())\n",
    "\n",
    "print(\"Patients satisfaction mean: \" + str(geral_patients_satisfaction_mean))\n"
   ]
  },
  {
   "cell_type": "code",
   "execution_count": 18,
   "id": "6d27af82",
   "metadata": {},
   "outputs": [
    {
     "name": "stdout",
     "output_type": "stream",
     "text": [
      "Most demanded services:\n"
     ]
    },
    {
     "data": {
      "text/html": [
       "<div>\n",
       "<style scoped>\n",
       "    .dataframe tbody tr th:only-of-type {\n",
       "        vertical-align: middle;\n",
       "    }\n",
       "\n",
       "    .dataframe tbody tr th {\n",
       "        vertical-align: top;\n",
       "    }\n",
       "\n",
       "    .dataframe thead th {\n",
       "        text-align: right;\n",
       "    }\n",
       "</style>\n",
       "<table border=\"1\" class=\"dataframe\">\n",
       "  <thead>\n",
       "    <tr style=\"text-align: right;\">\n",
       "      <th></th>\n",
       "      <th>service</th>\n",
       "      <th>count</th>\n",
       "    </tr>\n",
       "  </thead>\n",
       "  <tbody>\n",
       "    <tr>\n",
       "      <th>1</th>\n",
       "      <td>emergency</td>\n",
       "      <td>263</td>\n",
       "    </tr>\n",
       "    <tr>\n",
       "      <th>3</th>\n",
       "      <td>surgery</td>\n",
       "      <td>254</td>\n",
       "    </tr>\n",
       "    <tr>\n",
       "      <th>2</th>\n",
       "      <td>general_medicine</td>\n",
       "      <td>242</td>\n",
       "    </tr>\n",
       "    <tr>\n",
       "      <th>0</th>\n",
       "      <td>ICU</td>\n",
       "      <td>241</td>\n",
       "    </tr>\n",
       "  </tbody>\n",
       "</table>\n",
       "</div>"
      ],
      "text/plain": [
       "            service  count\n",
       "1         emergency    263\n",
       "3           surgery    254\n",
       "2  general_medicine    242\n",
       "0               ICU    241"
      ]
     },
     "execution_count": 18,
     "metadata": {},
     "output_type": "execute_result"
    }
   ],
   "source": [
    "# Lista os serviços mais usados e conta quantas vezes foram utilizados em 2025\n",
    "most_demanded_services = df.groupby('service', as_index=False)['service'].value_counts().sort_values(by='count', ascending=False)\n",
    "\n",
    "print(\"Most demanded services:\")\n",
    "most_demanded_services\n",
    "\n"
   ]
  },
  {
   "cell_type": "code",
   "execution_count": 19,
   "id": "9e3460c2",
   "metadata": {},
   "outputs": [
    {
     "name": "stdout",
     "output_type": "stream",
     "text": [
      "Months that more patients arrived:\n"
     ]
    },
    {
     "data": {
      "text/html": [
       "<div>\n",
       "<style scoped>\n",
       "    .dataframe tbody tr th:only-of-type {\n",
       "        vertical-align: middle;\n",
       "    }\n",
       "\n",
       "    .dataframe tbody tr th {\n",
       "        vertical-align: top;\n",
       "    }\n",
       "\n",
       "    .dataframe thead th {\n",
       "        text-align: right;\n",
       "    }\n",
       "</style>\n",
       "<table border=\"1\" class=\"dataframe\">\n",
       "  <thead>\n",
       "    <tr style=\"text-align: right;\">\n",
       "      <th></th>\n",
       "      <th>arrival_date</th>\n",
       "      <th>amount</th>\n",
       "    </tr>\n",
       "  </thead>\n",
       "  <tbody>\n",
       "    <tr>\n",
       "      <th>0</th>\n",
       "      <td>9</td>\n",
       "      <td>94</td>\n",
       "    </tr>\n",
       "    <tr>\n",
       "      <th>1</th>\n",
       "      <td>10</td>\n",
       "      <td>92</td>\n",
       "    </tr>\n",
       "    <tr>\n",
       "      <th>2</th>\n",
       "      <td>8</td>\n",
       "      <td>88</td>\n",
       "    </tr>\n",
       "    <tr>\n",
       "      <th>3</th>\n",
       "      <td>5</td>\n",
       "      <td>85</td>\n",
       "    </tr>\n",
       "    <tr>\n",
       "      <th>4</th>\n",
       "      <td>1</td>\n",
       "      <td>85</td>\n",
       "    </tr>\n",
       "    <tr>\n",
       "      <th>5</th>\n",
       "      <td>11</td>\n",
       "      <td>83</td>\n",
       "    </tr>\n",
       "    <tr>\n",
       "      <th>6</th>\n",
       "      <td>7</td>\n",
       "      <td>82</td>\n",
       "    </tr>\n",
       "    <tr>\n",
       "      <th>7</th>\n",
       "      <td>6</td>\n",
       "      <td>81</td>\n",
       "    </tr>\n",
       "    <tr>\n",
       "      <th>8</th>\n",
       "      <td>4</td>\n",
       "      <td>81</td>\n",
       "    </tr>\n",
       "    <tr>\n",
       "      <th>9</th>\n",
       "      <td>2</td>\n",
       "      <td>80</td>\n",
       "    </tr>\n",
       "    <tr>\n",
       "      <th>10</th>\n",
       "      <td>3</td>\n",
       "      <td>75</td>\n",
       "    </tr>\n",
       "    <tr>\n",
       "      <th>11</th>\n",
       "      <td>12</td>\n",
       "      <td>74</td>\n",
       "    </tr>\n",
       "  </tbody>\n",
       "</table>\n",
       "</div>"
      ],
      "text/plain": [
       "    arrival_date  amount\n",
       "0              9      94\n",
       "1             10      92\n",
       "2              8      88\n",
       "3              5      85\n",
       "4              1      85\n",
       "5             11      83\n",
       "6              7      82\n",
       "7              6      81\n",
       "8              4      81\n",
       "9              2      80\n",
       "10             3      75\n",
       "11            12      74"
      ]
     },
     "execution_count": 19,
     "metadata": {},
     "output_type": "execute_result"
    }
   ],
   "source": [
    "# Quantidade de pacientes que chegaram por mês.\n",
    "month = df['arrival_date'].dt.strftime('%m')\n",
    "\n",
    "amount_of_patients_arrived_per_month= df['arrival_date'].dt.month.value_counts().reset_index().sort_values(by='count', ascending=False)\n",
    "amount_of_patients_arrived_per_month.rename(columns={\"count\": \"amount\"}, inplace=True)\n",
    "\n",
    "\n",
    "print(\"Months that more patients arrived:\")\n",
    "amount_of_patients_arrived_per_month"
   ]
  },
  {
   "cell_type": "code",
   "execution_count": 20,
   "id": "977e38b7",
   "metadata": {},
   "outputs": [
    {
     "name": "stdout",
     "output_type": "stream",
     "text": [
      "Average length of stay: 7\n"
     ]
    }
   ],
   "source": [
    "# Tempo médio de internação dos pacientes em dias.\n",
    "average_length_of_stay = (df['departure_date'] - df['arrival_date']).mean()\n",
    "\n",
    "print(\"Average length of stay: \" + str(average_length_of_stay.days))"
   ]
  }
 ],
 "metadata": {
  "kernelspec": {
   "display_name": "Python 3",
   "language": "python",
   "name": "python3"
  },
  "language_info": {
   "codemirror_mode": {
    "name": "ipython",
    "version": 3
   },
   "file_extension": ".py",
   "mimetype": "text/x-python",
   "name": "python",
   "nbconvert_exporter": "python",
   "pygments_lexer": "ipython3",
   "version": "3.13.6"
  }
 },
 "nbformat": 4,
 "nbformat_minor": 5
}
